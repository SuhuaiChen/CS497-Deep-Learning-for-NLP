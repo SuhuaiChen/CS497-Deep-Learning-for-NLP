{
  "nbformat": 4,
  "nbformat_minor": 0,
  "metadata": {
    "colab": {
      "provenance": [],
      "mount_file_id": "1N_fjIbvaOVdZXw8xVsfMWBgM17Gv79yI",
      "authorship_tag": "ABX9TyMXHXZ/PeBfdn9S3+fUOcil",
      "include_colab_link": true
    },
    "kernelspec": {
      "name": "python3",
      "display_name": "Python 3"
    },
    "language_info": {
      "name": "python"
    },
    "accelerator": "GPU",
    "gpuClass": "standard"
  },
  "cells": [
    {
      "cell_type": "markdown",
      "metadata": {
        "id": "view-in-github",
        "colab_type": "text"
      },
      "source": [
        "<a href=\"https://colab.research.google.com/github/SuhuaiChen/CS497-Deep-Learning-for-NLP/blob/main/LSTM(suhuai).ipynb\" target=\"_parent\"><img src=\"https://colab.research.google.com/assets/colab-badge.svg\" alt=\"Open In Colab\"/></a>"
      ]
    },
    {
      "cell_type": "code",
      "execution_count": null,
      "metadata": {
        "colab": {
          "base_uri": "https://localhost:8080/"
        },
        "id": "eb3rAmPPYX-w",
        "outputId": "89387131-7196-437a-bd6c-252ab3b9137c"
      },
      "outputs": [
        {
          "output_type": "stream",
          "name": "stdout",
          "text": [
            "Drive already mounted at /content/drive; to attempt to forcibly remount, call drive.mount(\"/content/drive\", force_remount=True).\n"
          ]
        }
      ],
      "source": [
        "import torch\n",
        "import torch.nn.functional as F\n",
        "import torch.nn as nn\n",
        "import torch.optim as optim\n",
        "import math\n",
        "import time\n",
        "import numpy as np\n",
        "import sys\n",
        "import argparse\n",
        "import os\n",
        "from google.colab import drive\n",
        "import multiprocessing\n",
        "from torch.utils.data import DataLoader\n",
        "drive.mount('/content/drive')\n",
        "device = \"cuda\" if torch.cuda.is_available() else \"cpu\""
      ]
    },
    {
      "cell_type": "code",
      "source": [
        "def decode(vocab,corpus):\n",
        "    \n",
        "    text = ''\n",
        "    for i in range(len(corpus)):\n",
        "        wID = corpus[i]\n",
        "        text = text + vocab[wID] + ' '\n",
        "    return(text)\n",
        "\n",
        "def encode(words,text):\n",
        "    corpus = []\n",
        "    tokens = text.split(' ')\n",
        "    for t in tokens:\n",
        "        try:\n",
        "            wID = words[t][0]\n",
        "        except:\n",
        "            wID = words['<unk>'][0]\n",
        "        corpus.append(wID)\n",
        "    return(corpus)\n",
        "\n",
        "def read_encode(file_name,vocab,words,corpus,threshold):\n",
        "    \n",
        "    wID = len(vocab)\n",
        "\n",
        "    # map word to ID, count word frequency\n",
        "    if threshold > -1:\n",
        "        with open(file_name,'rt') as f:\n",
        "            for line in f:\n",
        "                line = line.replace('\\n','')\n",
        "                tokens = line.split(' ')\n",
        "                for t in tokens:\n",
        "                    try:\n",
        "                        elem = words[t]\n",
        "                    except:\n",
        "                        elem = [wID,0]\n",
        "                        vocab.append(t)\n",
        "                        wID = wID + 1\n",
        "                    elem[1] = elem[1] + 1\n",
        "                    words[t] = elem\n",
        "\n",
        "        temp = words\n",
        "        words = {}\n",
        "        vocab = []\n",
        "        wID = 0\n",
        "        words['<unk>'] = [wID,100]\n",
        "        vocab.append('<unk>')\n",
        "        for t in temp:\n",
        "            if temp[t][1] >= threshold:\n",
        "                vocab.append(t)\n",
        "                wID = wID + 1\n",
        "                words[t] = [wID,temp[t][1]]\n",
        "            \n",
        "                    \n",
        "    with open(file_name,'rt') as f:\n",
        "        for line in f:\n",
        "            line = line.replace('\\n','')\n",
        "            tokens = line.split(' ')\n",
        "            for t in tokens:\n",
        "                try:\n",
        "                    wID = words[t][0]\n",
        "                except:\n",
        "                    wID = words['<unk>'][0]\n",
        "                corpus.append(wID)\n",
        "                \n",
        "    return [vocab,words,corpus]"
      ],
      "metadata": {
        "id": "nHF_PafMZFnX"
      },
      "execution_count": null,
      "outputs": []
    },
    {
      "cell_type": "code",
      "source": [
        "# separate biographies from mix_train, mix_valid, mix_test\n",
        "def file_to_corpus(fname):\n",
        "  temp_corpus = []\n",
        "  with open(fname,'rt') as f:\n",
        "    for line in f:\n",
        "      line = line.replace('\\n','')\n",
        "      tokens = line.split(' ')\n",
        "      for t in tokens:\n",
        "        try:\n",
        "          wID = words[t][0]\n",
        "        except:\n",
        "          wID = words['<unk>'][0]\n",
        "        temp_corpus.append(wID)\n",
        "  return temp_corpus\n",
        "\n",
        "def corpus_to_list(corpus):\n",
        "  temp_list = []\n",
        "  initial = 0\n",
        "  for i in range(len(corpus)):\n",
        "    if corpus[i] == words['<start_bio>'][0]:\n",
        "      initial = i\n",
        "    if corpus[i] == words['[FAKE]'][0]:\n",
        "      temp_list.append(corpus[initial+4:i+1])\n",
        "    if corpus[i] == words['[REAL]'][0]:\n",
        "      temp_list.append(corpus[initial+5:i+1])\n",
        "  print(len(temp_list))\n",
        "  return temp_list\n",
        "\n",
        "vocab, words, mix_train_corpus = read_encode('/content/drive/MyDrive/cs497/mix.train.txt',[],{},[], 5)\n",
        "\n",
        "mix_valid_corpus = file_to_corpus('/content/drive/MyDrive/cs497/mix.valid.txt')\n",
        "mix_test_corpus = file_to_corpus('/content/drive/MyDrive/cs497/mix.test.txt')\n",
        "\n",
        "bio_list_train = corpus_to_list(mix_train_corpus)\n",
        "bio_list_valid = corpus_to_list(mix_valid_corpus)\n",
        "bio_list_test = corpus_to_list(mix_test_corpus)\n",
        "\n",
        "print(len(bio_list_valid))"
      ],
      "metadata": {
        "id": "7N6YgJmdcRhb",
        "colab": {
          "base_uri": "https://localhost:8080/"
        },
        "outputId": "ae088a89-cec0-4a5d-fda6-68e6ab60e7c5"
      },
      "execution_count": null,
      "outputs": [
        {
          "output_type": "stream",
          "name": "stdout",
          "text": [
            "7962\n",
            "986\n",
            "1052\n",
            "986\n"
          ]
        }
      ]
    },
    {
      "cell_type": "code",
      "source": [],
      "metadata": {
        "id": "6fSdst3Il7bg"
      },
      "execution_count": null,
      "outputs": []
    },
    {
      "cell_type": "code",
      "source": [
        "# construct training and validaion sets\n",
        "import numpy as np\n",
        "EMBEDDING_DIM = 600\n",
        "HIDDEN_DIM = 6\n",
        "\n",
        "fake_code = words['[FAKE]'][0]\n",
        "real_code = words['[REAL]'][0]\n",
        "\n",
        "def list_to_set(bio_list):\n",
        "  x_temp = []\n",
        "  y_temp = []\n",
        "  for bio in bio_list:\n",
        "    if len(bio) == 0:\n",
        "      continue\n",
        "    if bio[-1] == fake_code:\n",
        "      y_temp.append([0])\n",
        "    else:\n",
        "      y_temp.append([1])\n",
        "    bio = bio[:len(bio)-1]\n",
        "    while len(bio) < EMBEDDING_DIM:\n",
        "      bio.append(0)\n",
        "    x_temp.append(bio[:EMBEDDING_DIM])\n",
        "  return x_temp, y_temp\n",
        "\n",
        "\n",
        "x_train, y_train = list_to_set(bio_list_train)\n",
        "\n",
        "x_valid, y_valid = list_to_set(bio_list_valid)\n",
        "\n",
        "x_test, y_test = list_to_set(bio_list_test)\n",
        "\n",
        "print(len(x_valid[8]))\n",
        "\n",
        "x_train = np.array(x_train)\n",
        "y_train = np.array(y_train)\n",
        "x_valid = np.array(x_valid)\n",
        "y_valid = np.array(y_valid)\n",
        "\n",
        "\n",
        "print(x_train.shape)\n",
        "print(y_train.shape)\n",
        "print(x_valid.shape)\n",
        "print(y_valid.shape)\n",
        "\n"
      ],
      "metadata": {
        "id": "XYx41Ssdgq57",
        "colab": {
          "base_uri": "https://localhost:8080/"
        },
        "outputId": "ea95ee27-01cb-4699-8efd-523c95d159bb"
      },
      "execution_count": null,
      "outputs": [
        {
          "output_type": "stream",
          "name": "stdout",
          "text": [
            "600\n",
            "(7962, 600)\n",
            "(7962, 1)\n",
            "(986, 600)\n",
            "(986, 1)\n"
          ]
        }
      ]
    },
    {
      "cell_type": "code",
      "source": [
        "# DataLoaders\n",
        "train_set = np.concatenate((x_train, y_train), axis=1)\n",
        "valid_set = np.concatenate((x_valid, y_valid), axis=1)\n",
        "test_set = np.concatenate((x_test, y_test), axis=1)\n",
        "\n",
        "BATCH_SIZE = 8\n",
        "available_workers = multiprocessing.cpu_count()\n",
        "\n",
        "train_loader = DataLoader(train_set, batch_size = BATCH_SIZE, num_workers = available_workers, drop_last=True)\n",
        "valid_loader = DataLoader(valid_set, batch_size = BATCH_SIZE, num_workers = available_workers, drop_last=True)\n",
        "test_loader = DataLoader(test_set, batch_size = BATCH_SIZE, num_workers = available_workers, drop_last=True)\n"
      ],
      "metadata": {
        "id": "vxoJaosLL8qh"
      },
      "execution_count": null,
      "outputs": []
    },
    {
      "cell_type": "code",
      "source": [
        "class LSTM(nn.Module):\n",
        "    def __init__(self,vocab,words,d_model,d_hidden,n_layers,dropout_rate):\n",
        "        super().__init__()\n",
        "        \n",
        "        self.vocab = vocab\n",
        "        self.words = words\n",
        "        self.vocab_size = len(self.vocab)\n",
        "        self.n_layers = n_layers\n",
        "        self.d_hidden = d_hidden\n",
        "        self.d_model = d_model\n",
        "        self.embeds = nn.Embedding(self.vocab_size,d_model)\n",
        "#          {perform other initializations needed for the LSTM}\n",
        "        self.dropout = nn.Dropout(p=0.2)\n",
        "        self.lstm = nn.LSTM(input_size=d_model,hidden_size=self.d_hidden, num_layers=n_layers, batch_first=True)\n",
        "        self.fc = nn.Linear(d_hidden, 2)\n",
        "        # self.sig = nn.Sigmoid()\n",
        "        \n",
        "    def forward(self,src,h):\n",
        "        embeds = self.dropout(self.embeds(src))\n",
        "#          {add code to implement the LSTM}\n",
        "        lstm_out, h = self.lstm(embeds, h)\n",
        "        # print(\"lstm_out: \", lstm_out.shape)\n",
        "        # lstm_out = lstm_out.contiguous().view(-1, self.d_hidden)\n",
        "        logits = lstm_out[:,EMBEDDING_DIM-1,:]\n",
        "        # print(\"logits: \", logits.shape)\n",
        "        out = self.fc(logits)\n",
        "        # print(\"out: \", out.shape)\n",
        "        log_probs = F.log_softmax(out, dim=1)\n",
        "        # log_probs = log_probs.view(BATCH_SIZE, -1)\n",
        "        # print(\"log_probs: \", log_probs.shape)\n",
        "        # log_probs = log_probs[:, -1]\n",
        "        # print(\"log_probs: \", log_probs.shape)\n",
        "\n",
        "        return [log_probs,h]\n",
        "    \n",
        "    def init_hidden(self, batch_size):\n",
        "      weight = next(self.parameters()).data\n",
        "      hidden = (weight.new(self.n_layers, batch_size, self.d_hidden).zero_().to(device),\n",
        "              weight.new(self.n_layers, batch_size, self.d_hidden).zero_().to(device))\n",
        "      return hidden"
      ],
      "metadata": {
        "id": "jezeKIAXlqBr"
      },
      "execution_count": null,
      "outputs": []
    },
    {
      "cell_type": "code",
      "source": [
        "# Instantiate model\n",
        "n_layers = 2\n",
        "dropout_rate = 0.2\n",
        "\n",
        "model = LSTM(vocab,words,EMBEDDING_DIM,HIDDEN_DIM,n_layers,dropout_rate).to(device)\n",
        "print(model)"
      ],
      "metadata": {
        "colab": {
          "base_uri": "https://localhost:8080/"
        },
        "id": "xJZEyJ3_Iw8W",
        "outputId": "0cda79c5-4d0f-4041-9752-742a24de841d"
      },
      "execution_count": null,
      "outputs": [
        {
          "output_type": "stream",
          "name": "stdout",
          "text": [
            "LSTM(\n",
            "  (embeds): Embedding(28701, 600)\n",
            "  (dropout): Dropout(p=0.2, inplace=False)\n",
            "  (lstm): LSTM(600, 6, num_layers=2, batch_first=True)\n",
            "  (fc): Linear(in_features=6, out_features=2, bias=True)\n",
            ")\n"
          ]
        }
      ]
    },
    {
      "cell_type": "code",
      "source": [
        "def get_accuracy_from_log_probs(log_probs, labels):\n",
        "    probs = torch.exp(log_probs)\n",
        "    predicted_label = torch.argmax(probs, dim=1)\n",
        "    acc = (predicted_label == labels).float().mean()\n",
        "    return acc\n",
        "\n",
        "# helper function to evaluate model on dev and test data\n",
        "def evaluate(model, criterion, dataloader):\n",
        "    model.eval()\n",
        "    losses = []\n",
        "    pred = []\n",
        "    h = model.init_hidden(BATCH_SIZE)\n",
        "    mean_acc, mean_loss = 0, 0\n",
        "    count = 0\n",
        "\n",
        "    with torch.no_grad():\n",
        "        dev_st = time.time()\n",
        "        for it, data_tensor in enumerate(dataloader):\n",
        "            context_tensor = data_tensor[:,0:EMBEDDING_DIM]\n",
        "            target_tensor = data_tensor[:,EMBEDDING_DIM]\n",
        "            context_tensor, target_tensor = context_tensor.to(device), target_tensor.to(device)\n",
        "            log_probs, h = model(context_tensor, h)\n",
        "\n",
        "            probs = torch.exp(log_probs)\n",
        "            predicted_label = torch.argmax(probs, dim=1)\n",
        "            pred.append(predicted_label)\n",
        "            \n",
        "            # log_probs = log_probs.squeeze()\n",
        "            mean_loss += criterion(log_probs, target_tensor).item()\n",
        "            losses.append(criterion(log_probs, target_tensor).item())\n",
        "\n",
        "            mean_acc += get_accuracy_from_log_probs(log_probs, target_tensor)\n",
        "            count += 1\n",
        "\n",
        "    return mean_acc / count, mean_loss / count, losses, pred"
      ],
      "metadata": {
        "id": "OvrClucCSCAB"
      },
      "execution_count": null,
      "outputs": []
    },
    {
      "cell_type": "code",
      "source": [
        "# train model\n",
        "\n",
        "lr=0.001\n",
        "loss_function = nn.NLLLoss()\n",
        "optimizer = torch.optim.Adam(model.parameters(), lr=lr)\n",
        "epochs = 4\n",
        "ounter = 0\n",
        "print_every = 100\n",
        "clip=5\n",
        "train_losses = []\n",
        "\n",
        "for e in range(epochs):\n",
        "  st = time.time()\n",
        "  h = model.init_hidden(BATCH_SIZE)\n",
        "  for it, data_tensor in enumerate(train_loader): \n",
        "    context_tensor = data_tensor[:,0:EMBEDDING_DIM]\n",
        "    target_tensor = data_tensor[:,EMBEDDING_DIM]\n",
        "    context_tensor, target_tensor = context_tensor.to(device), target_tensor.to(device)\n",
        "    h = tuple([each.data for each in h])\n",
        "    model.zero_grad()    \n",
        "\n",
        "    # get the output from the model\n",
        "    #inputs = context_tensor.type(torch.LongTensor)\n",
        "    log_probs, h = model(context_tensor, h)\n",
        "    # print(log_probs.shape)\n",
        "    #log_probs = log_probs.squeeze()\n",
        "    # print(log_probs.shape)\n",
        "    #calculate current accuracy\n",
        "    acc = get_accuracy_from_log_probs(log_probs,target_tensor)\n",
        "\n",
        "    # calculate the loss and perform backprop\n",
        "    loss = loss_function(log_probs, target_tensor)\n",
        "    train_losses.append(loss.item())\n",
        "\n",
        "    loss.backward()\n",
        "\n",
        "    # `clip_grad_norm` helps prevent the exploding gradient problem in RNNs / LSTMs.\n",
        "    nn.utils.clip_grad_norm_(model.parameters(), clip)\n",
        "    optimizer.step()\n",
        "\n",
        "    if it % 100 == 0: \n",
        "            print(\"Training Iteration {} of epoch {} complete. Loss: {}; Acc:{}; Time taken (s): {}\".format(it, e, loss.item(), acc, (time.time()-st)))\n",
        "            st = time.time()\n",
        "\n",
        "print(\"\\n--- Evaluating model on dev data ---\")\n",
        "dev_acc, dev_loss, valid_losses, valid_pred = evaluate(model, loss_function, valid_loader)\n",
        "print(\"Epoch {} complete! Development Accuracy: {}; Development Loss: {}\".format(e, dev_acc, dev_loss))\n",
        "    "
      ],
      "metadata": {
        "colab": {
          "base_uri": "https://localhost:8080/"
        },
        "id": "na61VuvtKbDy",
        "outputId": "763d19b0-ab9e-46d1-a737-8e8610c673b9"
      },
      "execution_count": null,
      "outputs": [
        {
          "output_type": "stream",
          "name": "stdout",
          "text": [
            "Training Iteration 0 of epoch 0 complete. Loss: 0.7058549523353577; Acc:0.375; Time taken (s): 0.1241903305053711\n",
            "Training Iteration 100 of epoch 0 complete. Loss: 0.709396481513977; Acc:0.25; Time taken (s): 1.4545795917510986\n",
            "Training Iteration 200 of epoch 0 complete. Loss: 0.6927329301834106; Acc:0.375; Time taken (s): 1.545060634613037\n",
            "Training Iteration 300 of epoch 0 complete. Loss: 0.6945019960403442; Acc:0.5; Time taken (s): 1.5542948246002197\n",
            "Training Iteration 400 of epoch 0 complete. Loss: 0.7322694659233093; Acc:0.375; Time taken (s): 1.3408830165863037\n",
            "Training Iteration 500 of epoch 0 complete. Loss: 0.6820736527442932; Acc:0.625; Time taken (s): 1.343721628189087\n",
            "Training Iteration 600 of epoch 0 complete. Loss: 0.6853323578834534; Acc:0.5; Time taken (s): 1.3223800659179688\n",
            "Training Iteration 700 of epoch 0 complete. Loss: 0.8301563858985901; Acc:0.25; Time taken (s): 1.324026107788086\n",
            "Training Iteration 800 of epoch 0 complete. Loss: 0.6658412218093872; Acc:0.625; Time taken (s): 1.332793951034546\n",
            "Training Iteration 900 of epoch 0 complete. Loss: 0.7028710842132568; Acc:0.5; Time taken (s): 1.341249704360962\n",
            "Training Iteration 0 of epoch 1 complete. Loss: 0.6217896938323975; Acc:0.875; Time taken (s): 0.09130358695983887\n",
            "Training Iteration 100 of epoch 1 complete. Loss: 0.5126680731773376; Acc:0.75; Time taken (s): 1.4128525257110596\n",
            "Training Iteration 200 of epoch 1 complete. Loss: 0.18084858357906342; Acc:1.0; Time taken (s): 1.554762840270996\n",
            "Training Iteration 300 of epoch 1 complete. Loss: 0.6175004839897156; Acc:0.625; Time taken (s): 1.5319972038269043\n",
            "Training Iteration 400 of epoch 1 complete. Loss: 0.32254767417907715; Acc:0.875; Time taken (s): 1.331803798675537\n",
            "Training Iteration 500 of epoch 1 complete. Loss: 0.32366621494293213; Acc:0.875; Time taken (s): 1.327815055847168\n",
            "Training Iteration 600 of epoch 1 complete. Loss: 0.36492636799812317; Acc:0.875; Time taken (s): 1.3269522190093994\n",
            "Training Iteration 700 of epoch 1 complete. Loss: 0.666874885559082; Acc:0.625; Time taken (s): 1.3149447441101074\n",
            "Training Iteration 800 of epoch 1 complete. Loss: 0.48840704560279846; Acc:0.75; Time taken (s): 1.3100013732910156\n",
            "Training Iteration 900 of epoch 1 complete. Loss: 0.36586734652519226; Acc:0.875; Time taken (s): 1.3189117908477783\n",
            "Training Iteration 0 of epoch 2 complete. Loss: 0.7328386902809143; Acc:0.75; Time taken (s): 0.08486723899841309\n",
            "Training Iteration 100 of epoch 2 complete. Loss: 0.062495067715644836; Acc:1.0; Time taken (s): 1.441185474395752\n",
            "Training Iteration 200 of epoch 2 complete. Loss: 0.6726323962211609; Acc:0.75; Time taken (s): 1.544403314590454\n",
            "Training Iteration 300 of epoch 2 complete. Loss: 0.0847608670592308; Acc:1.0; Time taken (s): 1.5206098556518555\n",
            "Training Iteration 400 of epoch 2 complete. Loss: 0.06386972218751907; Acc:1.0; Time taken (s): 1.3225605487823486\n",
            "Training Iteration 500 of epoch 2 complete. Loss: 0.3535900115966797; Acc:0.875; Time taken (s): 1.3223638534545898\n",
            "Training Iteration 600 of epoch 2 complete. Loss: 0.3525780737400055; Acc:0.875; Time taken (s): 1.3382749557495117\n",
            "Training Iteration 700 of epoch 2 complete. Loss: 0.5843890905380249; Acc:0.75; Time taken (s): 1.3445537090301514\n",
            "Training Iteration 800 of epoch 2 complete. Loss: 0.06403814256191254; Acc:1.0; Time taken (s): 1.3332290649414062\n",
            "Training Iteration 900 of epoch 2 complete. Loss: 0.09249824285507202; Acc:1.0; Time taken (s): 1.3154101371765137\n",
            "Training Iteration 0 of epoch 3 complete. Loss: 0.33278030157089233; Acc:0.875; Time taken (s): 0.09096360206604004\n",
            "Training Iteration 100 of epoch 3 complete. Loss: 0.043273698538541794; Acc:1.0; Time taken (s): 1.4437994956970215\n",
            "Training Iteration 200 of epoch 3 complete. Loss: 0.04516835883259773; Acc:1.0; Time taken (s): 1.5464513301849365\n",
            "Training Iteration 300 of epoch 3 complete. Loss: 0.05191391706466675; Acc:1.0; Time taken (s): 1.5063748359680176\n",
            "Training Iteration 400 of epoch 3 complete. Loss: 0.04427154362201691; Acc:1.0; Time taken (s): 1.7401759624481201\n",
            "Training Iteration 500 of epoch 3 complete. Loss: 0.4436212182044983; Acc:0.875; Time taken (s): 1.509084939956665\n",
            "Training Iteration 600 of epoch 3 complete. Loss: 0.058973655104637146; Acc:1.0; Time taken (s): 1.3246512413024902\n",
            "Training Iteration 700 of epoch 3 complete. Loss: 0.3450987935066223; Acc:0.875; Time taken (s): 1.3317897319793701\n",
            "Training Iteration 800 of epoch 3 complete. Loss: 0.04321577772498131; Acc:1.0; Time taken (s): 1.310412883758545\n",
            "Training Iteration 900 of epoch 3 complete. Loss: 0.40220803022384644; Acc:0.875; Time taken (s): 1.320793867111206\n",
            "\n",
            "--- Evaluating model on dev data ---\n",
            "Epoch 3 complete! Development Accuracy: 0.9644308686256409; Development Loss: 0.14298588453935898\n"
          ]
        }
      ]
    },
    {
      "cell_type": "code",
      "source": [
        "# plot training losses\n",
        "import matplotlib.pyplot as plt\n",
        "\n",
        "x_axis = [i+1 for i in range(3980)]\n",
        "y_axis = train_losses\n",
        "\n",
        "plt.plot(x_axis, y_axis)\n",
        "plt.title('traning loss')\n",
        "plt.xlabel('batch')\n",
        "plt.ylabel('loss')\n",
        "plt.show()"
      ],
      "metadata": {
        "id": "tTGTyUlWYuY_",
        "colab": {
          "base_uri": "https://localhost:8080/",
          "height": 295
        },
        "outputId": "ea10f835-709a-4dab-97d8-4949a94f2100"
      },
      "execution_count": null,
      "outputs": [
        {
          "output_type": "display_data",
          "data": {
            "text/plain": [
              "<Figure size 432x288 with 1 Axes>"
            ],
            "image/png": "[encoded data removed]"
          },
          "metadata": {
            "needs_background": "light"
          }
        }
      ]
    },
    {
      "cell_type": "code",
      "source": [
        "# plot validation losses\n",
        "print(valid_losses)\n",
        "import matplotlib.pyplot as plt\n",
        "\n",
        "x_axis = [i+1 for i in range(123)]\n",
        "y_axis = valid_losses\n",
        "\n",
        "plt.plot(x_axis, y_axis)\n",
        "plt.title('traning loss')\n",
        "plt.xlabel('batch')\n",
        "plt.ylabel('loss')\n",
        "plt.show()"
      ],
      "metadata": {
        "colab": {
          "base_uri": "https://localhost:8080/",
          "height": 333
        },
        "id": "VhPAtCfVCgew",
        "outputId": "3f377378-6fae-47f7-b065-c7c1524ee793"
      },
      "execution_count": null,
      "outputs": [
        {
          "output_type": "stream",
          "name": "stdout",
          "text": [
            "[0.03832784667611122, 0.032608456909656525, 0.04294929653406143, 0.42509374022483826, 0.506024956703186, 0.04734669625759125, 0.034620501101017, 0.03922402113676071, 0.03596048429608345, 0.03822851926088333, 0.03920303285121918, 1.1439565420150757, 0.033300116658210754, 0.03252625837922096, 0.03166660666465759, 0.03272170200943947, 0.43114224076271057, 0.7618645429611206, 0.04425695538520813, 0.5035133361816406, 0.0359046533703804, 0.04176059737801552, 0.03530585765838623, 0.035721950232982635, 0.04101002961397171, 0.5045385956764221, 0.03698033466935158, 0.8146916031837463, 0.03823888674378395, 0.4979790449142456, 0.039250750094652176, 0.43980056047439575, 0.031678855419158936, 0.040245555341243744, 0.040996208786964417, 0.03168731555342674, 0.34852495789527893, 0.03548628091812134, 0.03817540407180786, 0.04067619889974594, 0.037052955478429794, 0.4143577516078949, 0.04043010249733925, 0.03950713574886322, 0.047968003898859024, 0.03337725251913071, 0.03704909607768059, 0.034804925322532654, 0.052946537733078, 0.0287760179489851, 0.03766314685344696, 0.033983517438173294, 0.048039570450782776, 0.039760906249284744, 0.030788030475378036, 0.043691713362932205, 0.04496397450566292, 0.421846866607666, 0.03746595233678818, 0.0412466824054718, 0.39024409651756287, 0.041232891380786896, 0.05451410263776779, 0.03583632782101631, 0.34650611877441406, 0.037980902940034866, 0.04510856419801712, 0.24334532022476196, 0.04269525781273842, 0.4385644495487213, 0.34977370500564575, 0.040154241025447845, 0.0370853953063488, 0.03813330456614494, 0.04749343916773796, 0.039689626544713974, 0.028299633413553238, 0.04868099093437195, 0.04240267351269722, 0.03882782906293869, 0.401618629693985, 0.43251001834869385, 0.038176797330379486, 0.03974282741546631, 0.04064735025167465, 0.4251047670841217, 0.03816269710659981, 0.03945973888039589, 0.4278257489204407, 0.031519435346126556, 0.026073111221194267, 0.035132113844156265, 0.04336535185575485, 0.4128074645996094, 0.027556493878364563, 0.03831232711672783, 0.7730346918106079, 0.362792044878006, 0.03444448485970497, 0.039748415350914, 0.042600829154253006, 0.04027055203914642, 0.03291153535246849, 0.043264005333185196, 0.033333729952573776, 0.3595200479030609, 0.4354412853717804, 0.034620627760887146, 0.032133158296346664, 0.031633201986551285, 0.17345580458641052, 0.03384475037455559, 0.03622838854789734, 0.04199312999844551, 0.03484353423118591, 0.42973363399505615, 0.027393756434321404, 0.0468498170375824, 0.03740055859088898, 0.42993292212486267, 0.03905821591615677, 0.029315020889043808, 0.03797227889299393]\n"
          ]
        },
        {
          "output_type": "display_data",
          "data": {
            "text/plain": [
              "<Figure size 432x288 with 1 Axes>"
            ],
            "image/png": "[encoded data removed]"
          },
          "metadata": {
            "needs_background": "light"
          }
        }
      ]
    },
    {
      "cell_type": "code",
      "source": [
        "# evaluating the model with the testing dataset\n",
        "!pip install torchmetrics\n",
        "import torchmetrics\n",
        "from torchmetrics.classification import BinaryConfusionMatrix\n",
        "\n",
        "test_acc, test_loss, test_losses, preds = evaluate(model, loss_function, test_loader)\n",
        "target = torch.as_tensor(y_test)\n",
        "print(type(preds))\n",
        "\n",
        "preds = torch.stack(preds)\n",
        "preds = torch.flatten(preds).to(device)\n",
        "\n",
        "\n",
        "target = torch.squeeze(target)\n",
        "target = target[:1048].to(device)\n",
        "\n",
        "bcm = BinaryConfusionMatrix().to(device)\n",
        "\n",
        "print(test_acc)\n",
        "print(bcm(preds, target))\n"
      ],
      "metadata": {
        "colab": {
          "base_uri": "https://localhost:8080/"
        },
        "id": "Ig7SQ5z2inz7",
        "outputId": "8f060872-669f-45a5-f114-c73cf817f10e"
      },
      "execution_count": null,
      "outputs": [
        {
          "output_type": "stream",
          "name": "stdout",
          "text": [
            "Looking in indexes: https://pypi.org/simple, https://us-python.pkg.dev/colab-wheels/public/simple/\n",
            "Requirement already satisfied: torchmetrics in /usr/local/lib/python3.8/dist-packages (0.11.1)\n",
            "Requirement already satisfied: typing-extensions in /usr/local/lib/python3.8/dist-packages (from torchmetrics) (4.5.0)\n",
            "Requirement already satisfied: torch>=1.8.1 in /usr/local/lib/python3.8/dist-packages (from torchmetrics) (1.13.1+cu116)\n",
            "Requirement already satisfied: numpy>=1.17.2 in /usr/local/lib/python3.8/dist-packages (from torchmetrics) (1.22.4)\n",
            "Requirement already satisfied: packaging in /usr/local/lib/python3.8/dist-packages (from torchmetrics) (23.0)\n",
            "<class 'list'>\n",
            "tensor(0.9656, device='cuda:0')\n",
            "tensor([[536,   8],\n",
            "        [ 28, 476]], device='cuda:0')\n"
          ]
        }
      ]
    },
    {
      "cell_type": "code",
      "source": [],
      "metadata": {
        "id": "U7T6qxp_iptJ"
      },
      "execution_count": null,
      "outputs": []
    }
  ]
}