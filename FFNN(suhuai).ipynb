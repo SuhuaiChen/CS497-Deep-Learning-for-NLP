{
  "nbformat": 4,
  "nbformat_minor": 0,
  "metadata": {
    "colab": {
      "provenance": [],
      "mount_file_id": "1Ev2G-nSJZzyNzLkWnFlrKZP6e3Alt2wL",
      "authorship_tag": "ABX9TyMvWvkP4MDkwa9LLa93oFjP",
      "include_colab_link": true
    },
    "kernelspec": {
      "name": "python3",
      "display_name": "Python 3"
    },
    "language_info": {
      "name": "python"
    },
    "gpuClass": "standard",
    "accelerator": "GPU"
  },
  "cells": [
    {
      "cell_type": "markdown",
      "metadata": {
        "id": "view-in-github",
        "colab_type": "text"
      },
      "source": [
        "<a href=\"https://colab.research.google.com/github/SuhuaiChen/CS497-Deep-Learning-for-NLP/blob/main/FFNN(suhuai).ipynb\" target=\"_parent\"><img src=\"https://colab.research.google.com/assets/colab-badge.svg\" alt=\"Open In Colab\"/></a>"
      ]
    },
    {
      "cell_type": "code",
      "execution_count": null,
      "metadata": {
        "id": "z2NLXIBW5vtk",
        "colab": {
          "base_uri": "https://localhost:8080/"
        },
        "outputId": "971f53a8-4568-4fb1-a553-e7089bc4bb1a"
      },
      "outputs": [
        {
          "output_type": "stream",
          "name": "stdout",
          "text": [
            "Drive already mounted at /content/drive; to attempt to forcibly remount, call drive.mount(\"/content/drive\", force_remount=True).\n"
          ]
        }
      ],
      "source": [
        "import torch\n",
        "import torch.nn.functional as F\n",
        "import torch.nn as nn\n",
        "import torch.optim as optim\n",
        "import math\n",
        "import time\n",
        "import numpy as np\n",
        "import sys\n",
        "import argparse\n",
        "import os\n",
        "from google.colab import files\n",
        "import multiprocessing\n",
        "from torch.utils.data import DataLoader\n",
        "context_size = 600\n",
        "from google.colab import drive\n",
        "drive.mount('/content/drive')"
      ]
    },
    {
      "cell_type": "code",
      "source": [
        "# uploaded = files.upload()"
      ],
      "metadata": {
        "id": "3l0MUhgPjBJx"
      },
      "execution_count": null,
      "outputs": []
    },
    {
      "cell_type": "code",
      "source": [
        "def decode(vocab,corpus):\n",
        "    \n",
        "    text = ''\n",
        "    for i in range(len(corpus)):\n",
        "        wID = corpus[i]\n",
        "        text = text + vocab[wID] + ' '\n",
        "    return(text)\n",
        "\n",
        "def encode(words,text):\n",
        "    corpus = []\n",
        "    tokens = text.split(' ')\n",
        "    for t in tokens:\n",
        "        try:\n",
        "            wID = words[t][0]\n",
        "        except:\n",
        "            wID = words['<unk>'][0]\n",
        "        corpus.append(wID)\n",
        "    return(corpus)\n",
        "\n",
        "def read_encode(file_name,vocab,words,corpus,threshold):\n",
        "    \n",
        "    wID = len(vocab)\n",
        "\n",
        "    # map word to ID, count word frequency\n",
        "    if threshold > -1:\n",
        "        with open(file_name,'rt') as f:\n",
        "            for line in f:\n",
        "                line = line.replace('\\n','')\n",
        "                tokens = line.split(' ')\n",
        "                for t in tokens:\n",
        "                    try:\n",
        "                        elem = words[t]\n",
        "                    except:\n",
        "                        elem = [wID,0]\n",
        "                        vocab.append(t)\n",
        "                        wID = wID + 1\n",
        "                    elem[1] = elem[1] + 1\n",
        "                    words[t] = elem\n",
        "\n",
        "        temp = words\n",
        "        words = {}\n",
        "        vocab = []\n",
        "        wID = 0\n",
        "        words['<unk>'] = [wID,100]\n",
        "        vocab.append('<unk>')\n",
        "        for t in temp:\n",
        "            if temp[t][1] >= threshold:\n",
        "                vocab.append(t)\n",
        "                wID = wID + 1\n",
        "                words[t] = [wID,temp[t][1]]\n",
        "            \n",
        "                    \n",
        "    with open(file_name,'rt') as f:\n",
        "        for line in f:\n",
        "            line = line.replace('\\n','')\n",
        "            tokens = line.split(' ')\n",
        "            for t in tokens:\n",
        "                try:\n",
        "                    wID = words[t][0]\n",
        "                except:\n",
        "                    wID = words['<unk>'][0]\n",
        "                corpus.append(wID)\n",
        "                \n",
        "    return [vocab,words,corpus]"
      ],
      "metadata": {
        "id": "nHF_PafMZFnX"
      },
      "execution_count": null,
      "outputs": []
    },
    {
      "cell_type": "code",
      "source": [
        "vocab, words, mix_train_corpus = read_encode('/content/drive/MyDrive/cs497/mix.train.txt',[],{},[], 5)"
      ],
      "metadata": {
        "id": "LMfNFyyIaotW"
      },
      "execution_count": null,
      "outputs": []
    },
    {
      "cell_type": "code",
      "source": [
        "print(len(vocab))\n",
        "print(len(words))\n",
        "print(len(mix_train_corpus))\n"
      ],
      "metadata": {
        "id": "X5iaOC5wcHPQ",
        "colab": {
          "base_uri": "https://localhost:8080/"
        },
        "outputId": "2b79acd6-42eb-4ae7-a192-ff9c47b62edb"
      },
      "execution_count": null,
      "outputs": [
        {
          "output_type": "stream",
          "name": "stdout",
          "text": [
            "28701\n",
            "28701\n",
            "3366260\n"
          ]
        }
      ]
    },
    {
      "cell_type": "code",
      "source": [
        "# separate biographies from mix_train, mix_valid, mix_test\n",
        "def file_to_corpus(fname):\n",
        "  temp_corpus = []\n",
        "  with open(fname,'rt') as f:\n",
        "    for line in f:\n",
        "      line = line.replace('\\n','')\n",
        "      tokens = line.split(' ')\n",
        "      for t in tokens:\n",
        "        try:\n",
        "          wID = words[t][0]\n",
        "        except:\n",
        "          wID = words['<unk>'][0]\n",
        "        temp_corpus.append(wID)\n",
        "  return temp_corpus\n",
        "\n",
        "def corpus_to_list(corpus):\n",
        "  temp_list = []\n",
        "  initial = 0\n",
        "  for i in range(len(corpus)):\n",
        "    if corpus[i] == words['<start_bio>'][0]:\n",
        "      initial = i\n",
        "    if corpus[i] == words['[FAKE]'][0]:\n",
        "      temp_list.append(corpus[initial+4:i+1])\n",
        "    if corpus[i] == words['[REAL]'][0]:\n",
        "      temp_list.append(corpus[initial+5:i+1])\n",
        "  print(len(temp_list))\n",
        "  print(decode(vocab, temp_list[0][:context_size]))\n",
        "  return temp_list\n",
        "\n",
        "\n",
        "mix_valid_corpus = file_to_corpus('/content/drive/MyDrive/cs497/mix.valid.txt')\n",
        "mix_test_corpus = file_to_corpus('/content/drive/MyDrive/cs497/mix.test.txt')\n",
        "\n",
        "bio_list_train = corpus_to_list(mix_train_corpus)\n",
        "bio_list_valid = corpus_to_list(mix_valid_corpus)\n",
        "bio_list_test = corpus_to_list(mix_test_corpus)\n",
        "\n",
        "print(len(bio_list_valid))\n",
        "print(decode(vocab, bio_list_valid[0][:context_size]))\n",
        "print(bio_list_valid[0][:context_size])\n",
        "print(decode(vocab, bio_list_valid[1][:context_size]))"
      ],
      "metadata": {
        "id": "7N6YgJmdcRhb",
        "colab": {
          "base_uri": "https://localhost:8080/"
        },
        "outputId": "25089eb8-d876-478f-beb8-9dc43ef2f12b"
      },
      "execution_count": null,
      "outputs": [
        {
          "output_type": "stream",
          "name": "stdout",
          "text": [
            "7962\n",
            "Hildebrand Bothe =   Hildebrand Bothe ( 2 October 1781 – 25 September 1860 ) was a Swiss botanist.    Bothe was born in Strasbourg and studied medicine in Stuttgart and Bonn, with a dissertation on plants collected at the <unk> at Trier in 1787. Bothe was sent by the natural history collection of the London Natural History Society to Belgium. He became a plant pathologist, and started to work as a taxonomist at the botanical gardens of the botanical garden of Strasbourg. In 1808 he gave a long lecture on the Lepidoptera of Switzerland, and another on the genus <unk> in 1813 ; this latter work contains a catalogue of approximately 5,000 plants, numbers of which have not yet been <unk> He also wrote on many other plant families, including <unk> ( <unk> <unk> ), Russian <unk> ( <unk> <unk> ), and <unk> <unk> ( <unk> <unk> ).    Bothe died in Strasbourg on 25 September 1860.            == Works ==    <unk> and the <unk> genera of the Swiss canton of Coimbatore ( <unk> 1813 )    A Swiss flora of <unk> Containing some hundred new species of Flora <unk> <unk> <unk> <unk> and <unk> ( Strasbourg, 1816 )    The <unk> of Switzerland ( three vols. ( Trier, <unk> ) ; London, 2nd edition, 2 vols. <unk> )    Flora of Schleswig-Holstein ( Trier, <unk> )    Flora from South Africa ( London, 1835 )    <unk> in plantarum <unk> duo ( Stuttgart, 1846 )    Genera of Swiss flora ( 2 vols., Trier, 2nd edition, <unk> )                  <end_bio>   [FAKE] \n",
            "986\n",
            "Eduard <unk> =   Eduard August Josef <unk> ( 22 December 1849 – 9 April 1933 ) was a German painter and art historian, noted for his <unk> paintings and his passion for the sciences.            == Life ==    Born in Halle an der Saale ( today's Czech Republic ), <unk> was educated at the Halle gymnasium and the Königsberg Academy, where his father was a student. In 1887, he enrolled at the University of Berlin and then entered the faculty of philosophy in <unk> becoming a professor, <unk> devoted himself primarily to art and graduated in 1899. This friendship formed the basis of his collaboration with the mathematician August Otto von <unk> the latter of whom he was a lifelong <unk> After his graduation, <unk> accepted an appointment as a professor at the University of Stuttgart and became an assistant professor in 1902, professor in 1905, and full professor in <unk> 1896, he was appointed artistic director at the Humboldt University of Berlin. He held this position until <unk> 1910, <unk> was appointed director of the Humboldt University of Berlin, a position which he held until 1916, when the university was transferred to Munich. The remainder of his career was spent at the <unk> Museum in Leipzig and the Institute for Historical Art and the Art of <unk> Cabanis in London.            == Views ==    Influenced by the concepts of the German Romantic philosophy, <unk> took an interest in various branches of psychology and had a deeply significant influence on his successors in art. <unk> was a conservative member of the Société <unk> In the field of <unk> he strove to find an identification between the expressive forms of the <unk> <unk> as represented by the concrete <unk> and the relations between thought and life in the <unk> own <unk>    In the influence of many influential early German romantic <unk> such as Hermann Schelling and Carl <unk> <unk> wanted to pursue an interest in historical themes through his <unk> <unk> wrote a number of books on the theme of the history of art and ideas. His most influential works are Hermann Schelling and the Rhine : Die <unk> in der <unk> <unk> ( 1900 ), and Deutschlands Geographie ( 1906 ). After suffering from various <unk> in his career, he was forced to resign from his chair at the Humboldt University of Berlin, and was succeeded by the theologian Josef <unk> a man well <unk> in the study of German Romanticism and the philosophy of <unk> whose <unk> style still remains <unk>            == Works ==    `` Der gegenwärtigen <unk> '' in : Ernst Hauptmann and Walter Fr C3 <unk> ( 1899 ). Studien zur <unk> ( in German ). <unk>    `` Die Kenntnis und die <unk> der <unk> '' in : Friedrich <unk> and Werner <unk> ( 1900 ). Studien zur <unk> ( in German ). <unk>    `` Essays on the National Socialism '' in : Theologie und <unk> Volume 31, Issue 1. Leipzig : <unk> [ 1862 ]            == External Links and resources ==    Herbert <unk> ’ s collection of <unk> drawings is at the University of Manchester.          <end_bio>   [FAKE] \n",
            "1052\n",
            "Ludwig <unk> =    Ludwig <unk> ( October 5 , 1863 – August 12 , 1938 ) was a German Egyptologist who was born in Berlin . He is best known for finding a famous bust of <unk> at <unk> .               == Life ==          Also known as Herbert , <unk> initially studied Architecture and later Egyptology under Adolf <unk> . In 1895 he journeyed to Cairo and produced , with Gaston <unk> , the Catalogue of the Egyptian Museum ( Catalogue Général du Musée du Caire ) .His main focus was Ancient Egyptian architecture . He began excavations in <unk> , where he discovered the workshop of the sculptor <unk> . Amongst its contents was the famous bust of <unk> , ( now in the Neues Museum in Berlin ) . From 1902 until 1908 , he undertook extensive excavations of the <unk> of <unk> , exploring the entire <unk> complex . He published his discoveries in a two-volume study Das <unk> des <unk> <unk> , `` The <unk> Monument of the King <unk> '' , which is still considered the standard work on <unk> 's <unk> married Emilie ( <unk> ) Cohen , one of the daughters of Eduard Cohen and Ida Kuhn . In 1903 , <unk> received an inheritance from her grandfather Abraham Kuhn of <unk> <unk> , a considerable fortune equal to <unk> <unk> of gold , and spent most of it on buying a villa in <unk> 1907 <unk> founded the German Archaeological Institute ( Deutsches <unk> Institut ) in Cairo , and remained its director until 1928 . While based in Cairo , he also directed the excavations in <unk> and the noble tombs of the Old Kingdom in Abu <unk> . He died in Zürich on August 12 , 1938 .     <unk> , controversy has <unk> with the <unk> that <unk> <unk> the bust of <unk> out of Egypt by reporting it as an <unk> made of <unk> . However , the Swiss art historian Henri <unk> has claimed that the bust is a copy dating from 1912 .               == Publications ==     <unk> des <unk> von <unk> ( 1905 )     Die Annalen und die <unk> <unk> des Alten <unk> der <unk> Geschichte ( 1917 )     Quellen und Forschungen zur <unk> der <unk> Geschichte , 3 volumes ( <unk> )                       <end_bio>    [REAL] \n",
            "986\n",
            "Eduard <unk> =   Eduard August Josef <unk> ( 22 December 1849 – 9 April 1933 ) was a German painter and art historian, noted for his <unk> paintings and his passion for the sciences.            == Life ==    Born in Halle an der Saale ( today's Czech Republic ), <unk> was educated at the Halle gymnasium and the Königsberg Academy, where his father was a student. In 1887, he enrolled at the University of Berlin and then entered the faculty of philosophy in <unk> becoming a professor, <unk> devoted himself primarily to art and graduated in 1899. This friendship formed the basis of his collaboration with the mathematician August Otto von <unk> the latter of whom he was a lifelong <unk> After his graduation, <unk> accepted an appointment as a professor at the University of Stuttgart and became an assistant professor in 1902, professor in 1905, and full professor in <unk> 1896, he was appointed artistic director at the Humboldt University of Berlin. He held this position until <unk> 1910, <unk> was appointed director of the Humboldt University of Berlin, a position which he held until 1916, when the university was transferred to Munich. The remainder of his career was spent at the <unk> Museum in Leipzig and the Institute for Historical Art and the Art of <unk> Cabanis in London.            == Views ==    Influenced by the concepts of the German Romantic philosophy, <unk> took an interest in various branches of psychology and had a deeply significant influence on his successors in art. <unk> was a conservative member of the Société <unk> In the field of <unk> he strove to find an identification between the expressive forms of the <unk> <unk> as represented by the concrete <unk> and the relations between thought and life in the <unk> own <unk>    In the influence of many influential early German romantic <unk> such as Hermann Schelling and Carl <unk> <unk> wanted to pursue an interest in historical themes through his <unk> <unk> wrote a number of books on the theme of the history of art and ideas. His most influential works are Hermann Schelling and the Rhine : Die <unk> in der <unk> <unk> ( 1900 ), and Deutschlands Geographie ( 1906 ). After suffering from various <unk> in his career, he was forced to resign from his chair at the Humboldt University of Berlin, and was succeeded by the theologian Josef <unk> a man well <unk> in the study of German Romanticism and the philosophy of <unk> whose <unk> style still remains <unk>            == Works ==    `` Der gegenwärtigen <unk> '' in : Ernst Hauptmann and Walter Fr C3 <unk> ( 1899 ). Studien zur <unk> ( in German ). <unk>    `` Die Kenntnis und die <unk> der <unk> '' in : Friedrich <unk> and Werner <unk> ( 1900 ). Studien zur <unk> ( in German ). <unk>    `` Essays on the National Socialism '' in : Theologie und <unk> Volume 31, Issue 1. Leipzig : <unk> [ 1862 ]            == External Links and resources ==    Herbert <unk> ’ s collection of <unk> drawings is at the University of Manchester.          <end_bio>   [FAKE] \n",
            "[4927, 0, 3, 2, 2, 4927, 594, 4344, 0, 6, 642, 581, 3560, 10, 843, 582, 138, 14, 15, 16, 139, 1711, 22, 1053, 655, 1232, 246, 171, 0, 2597, 22, 171, 4285, 246, 33, 9481, 2, 2, 2, 2, 2, 2, 2, 2, 2, 2, 2, 96, 813, 96, 2, 2, 2, 1245, 20, 6865, 209, 221, 18148, 6, 17401, 934, 3322, 91, 0, 15, 1499, 32, 33, 6865, 11190, 22, 33, 4872, 6319, 1122, 171, 456, 15, 16, 5814, 60, 9621, 62, 1119, 32, 33, 145, 41, 826, 22, 971, 1387, 33, 1463, 41, 705, 20, 0, 1695, 16, 10204, 0, 3777, 514, 3157, 46, 1053, 22, 418, 20, 4778, 1562, 8736, 3673, 33, 2931, 41, 171, 4341, 27, 33, 1244, 594, 631, 216, 0, 33, 73, 41, 1507, 62, 15, 16, 4852, 0, 994, 171, 11433, 0, 1555, 209, 5736, 54, 16, 147, 32, 33, 145, 41, 25, 22, 49, 209, 1134, 147, 20, 4222, 147, 20, 6138, 22, 1002, 147, 20, 0, 1478, 62, 15, 982, 953, 296, 32, 33, 10093, 145, 41, 905, 48, 1008, 72, 1020, 644, 0, 5691, 0, 15, 982, 296, 41, 33, 10093, 145, 41, 3049, 16, 1020, 80, 62, 1008, 644, 4507, 460, 33, 1004, 15, 3979, 46, 5016, 111, 9283, 41, 171, 425, 15, 1517, 32, 33, 0, 1147, 20, 839, 22, 33, 144, 246, 2900, 1055, 22, 33, 1055, 41, 0, 24097, 20, 2887, 2, 2, 2, 2, 2, 2, 2, 2, 2, 2, 2, 96, 9409, 96, 2, 2, 2, 19334, 37, 33, 667, 41, 33, 139, 14668, 1448, 0, 263, 209, 1626, 20, 1279, 13141, 41, 2255, 22, 446, 16, 770, 5625, 963, 29, 171, 11001, 20, 16727, 0, 15, 16, 4683, 163, 41, 33, 4933, 0, 60, 33, 981, 41, 0, 62, 16672, 46, 6757, 209, 12487, 903, 33, 1043, 4909, 41, 33, 0, 0, 54, 5255, 37, 33, 12840, 0, 22, 33, 4890, 903, 686, 22, 518, 20, 33, 0, 2324, 0, 2, 2, 2, 60, 33, 963, 41, 87, 2645, 856, 139, 978, 0, 721, 54, 132, 12093, 22, 890, 0, 0, 447, 46, 424, 209, 1626, 20, 1334, 6673, 1178, 171, 0, 0, 86, 16, 1768, 41, 1801, 29, 33, 8251, 41, 33, 39, 41, 1053, 22, 16732, 158, 368, 2645, 252, 537, 132, 12093, 22, 33, 17743, 441, 188, 0, 20, 221, 0, 0, 6, 4715, 91, 22, 4717, 6448, 6, 4200, 93, 994, 12608, 120, 1279, 0, 20, 171, 3051, 62, 15, 2378, 46, 2771, 120, 171, 1255, 32, 33, 10093, 145, 41, 3049, 22, 15, 1173, 37, 33, 821, 4344, 0, 16, 1552, 939, 0, 20, 33, 836, 41, 139, 24578, 22, 33, 705, 41, 0, 4849, 0, 6716, 450, 1032, 0, 2, 2, 2, 2, 2, 2, 2, 2, 2, 2, 2, 96, 97, 96, 2, 2, 2, 384, 2506, 18552, 0, 385, 20, 441, 4224, 8333, 22, 4064, 15274, 819, 0, 6, 2984, 93, 1071, 913, 0, 6, 20, 139, 93, 0, 2, 2, 2, 384, 188, 13185, 184, 182, 0, 221, 0, 385, 20, 441, 891, 0, 22, 3750, 0, 6, 4715, 93, 1071, 913, 0, 6, 20, 139, 93, 0, 2, 2, 2, 384, 1078, 29, 33, 269, 12367, 385, 20, 441, 2818, 184, 0, 4787, 11778, 15671, 6907, 839, 441, 0, 1950, 838, 1954, 2, 2, 2, 2, 2, 2, 2, 2, 2, 2, 2, 96, 3935, 3936, 22, 10202, 96, 2, 2, 2, 4265, 0, 1534, 1535, 40, 41, 0, 10013, 461, 32, 33, 145, 41, 3023, 2, 2, 2, 2, 2, 2, 2, 2, 2, 130, 2, 2, 131]\n",
            "Ronald M. Foster =    Ronald Martin Foster ( 3 October 1896 – 2 February 1998 ) , was a Bell Labs mathematician whose work was of significance regarding electronic <unk> for use on telephone lines . He published an important paper , A <unk> Theorem , ( see Foster 's <unk> theorem ) which quickly inspired Wilhelm Cauer to begin his program of network synthesis <unk> which put the design of <unk> on a firm mathematical <unk> . He is also known for the Foster census of cubic symmetric graphs and the <unk> cubic symmetric Foster graph .               == Education ==     Foster was a Harvard College graduate <unk> . ( Mathematics ) , summa cum laude , Class of 1917 . He also received two honorary <unk> .               == Professional career ==     1917 – 1943 Research & Development Department ( later Bell Labs ) , American Telephone & Telegraph , as a Research Engineer ( Applied Mathematician ) , New York City , New York .     1943 – 1963 Professor and Head of Department of Mathematics , Polytechnic Institute of Brooklyn , Brooklyn , New York City , New York .               == Publications ==     Campbell , <unk> , Foster , <unk> , Fourier Integrals for Practical Applications , `` Bell System Technical Journal '' , pp <unk> , 1928 .     Pierce , <unk> , Foster . <unk> . `` A Short Table of Integrals '' , Fourth Edition , <unk> and Company , pp <unk> , 1956 .                       <end_bio>    [REAL] \n"
          ]
        }
      ]
    },
    {
      "cell_type": "code",
      "source": [
        "# construct training and validaion sets\n",
        "import numpy as np\n",
        "\n",
        "fake_code = words['[FAKE]'][0]\n",
        "real_code = words['[REAL]'][0]\n",
        "\n",
        "def list_to_set(bio_list):\n",
        "  x_temp = []\n",
        "  y_temp = []\n",
        "  for bio in bio_list:\n",
        "    if len(bio) == 0:\n",
        "      continue\n",
        "    if bio[-1] == fake_code:\n",
        "      y_temp.append([0])\n",
        "    else:\n",
        "      y_temp.append([1])\n",
        "    bio = bio[:len(bio)-1]\n",
        "    while len(bio) < context_size:\n",
        "      bio.append(0)\n",
        "    x_temp.append(bio[:context_size])\n",
        "  return x_temp, y_temp\n",
        "\n",
        "\n",
        "x_train, y_train = list_to_set(bio_list_train)\n",
        "\n",
        "x_valid, y_valid = list_to_set(bio_list_valid)\n",
        "\n",
        "x_test, y_test = list_to_set(bio_list_test)\n",
        "\n",
        "print(len(x_valid[8]))\n",
        "\n",
        "x_train = np.array(x_train)\n",
        "y_train = np.array(y_train)\n",
        "x_valid = np.array(x_valid)\n",
        "y_valid = np.array(y_valid)\n",
        "x_test = np.array(x_test)\n",
        "y_test = np.array(y_test)\n",
        "\n",
        "\n",
        "print(x_train.shape)\n",
        "print(y_train.shape)\n",
        "print(x_valid.shape)\n",
        "print(y_valid.shape)\n",
        "print(x_test.shape)\n",
        "print(y_test.shape)\n",
        "\n",
        "\n"
      ],
      "metadata": {
        "id": "XYx41Ssdgq57",
        "colab": {
          "base_uri": "https://localhost:8080/"
        },
        "outputId": "68b22217-450c-4f8a-b49b-d4381f3364cf"
      },
      "execution_count": null,
      "outputs": [
        {
          "output_type": "stream",
          "name": "stdout",
          "text": [
            "600\n",
            "(7962, 600)\n",
            "(7962, 1)\n",
            "(986, 600)\n",
            "(986, 1)\n",
            "(1052, 600)\n",
            "(1052, 1)\n"
          ]
        }
      ]
    },
    {
      "cell_type": "code",
      "source": [
        "class BruteForceFF(nn.Module):\n",
        "  def __init__(self, vocab_size, embedding_dim, context_size, h1, h2):\n",
        "    super(BruteForceFF, self).__init__()\n",
        "    self.context_size = context_size\n",
        "    self.embedding_dim = embedding_dim\n",
        "    self.dropout = nn.Dropout(p=0.2)\n",
        "    self.embeddings = nn.Embedding(vocab_size, embedding_dim)\n",
        "    self.linear1 = nn.Linear(context_size * embedding_dim, h1)\n",
        "    self.linear2 = nn.Linear(h1, h2)\n",
        "    self.linear3 = nn.Linear(h2,2)\n",
        "    # self.linear2 = nn.Linear(h, embedding_dim)\n",
        "\n",
        "  def forward(self, inputs):\n",
        "\n",
        "    # compute x': concatenation of x1 and x2 embeddings\n",
        "    embeds = self.embeddings(inputs)\n",
        "    embeds = self.dropout(embeds)\n",
        "    embeds = embeds.view((-1,self.context_size * self.embedding_dim))\n",
        "\n",
        "    # print(embeds)\n",
        "    # print(embeds.shape)\n",
        "    \n",
        "    # compute h: tanh(W_1.x' + b)\n",
        "    out = nn.Tanh()(self.linear1(embeds))\n",
        "\n",
        "    # compute W_2.h\n",
        "    out = self.linear2(out)\n",
        "\n",
        "    # out = torch.matmul(out, self.embeddings.weight.T)\n",
        "    out = nn.Tanh()(out)\n",
        "\n",
        "    out = self.linear3(out)\n",
        "\n",
        "    # compute y: log_softmax(W_2.h)\n",
        "    log_probs = F.log_softmax(out, dim=1)\n",
        "\n",
        "    # return log probabilities\n",
        "    # BATCH_SIZE x len(vocab)\n",
        "    return log_probs\n"
      ],
      "metadata": {
        "id": "V6MB9BEPr8uz"
      },
      "execution_count": null,
      "outputs": []
    },
    {
      "cell_type": "code",
      "source": [
        "# create parameters\n",
        "gpu = 0 \n",
        "# word vectors size\n",
        "EMBEDDING_DIM = 100\n",
        "CONTEXT_SIZE = 200\n",
        "BATCH_SIZE = 64\n",
        "# hidden units\n",
        "h1 = 100\n",
        "h2 = 32\n",
        "# torch.manual_seed(13013)\n",
        "\n",
        "# check if gpu is available\n",
        "device = 'cuda' if torch.cuda.is_available() else 'cpu'\n",
        "available_workers = multiprocessing.cpu_count()\n",
        "\n",
        "print(\"--- Creating training and dev dataloaders with {} batch size ---\".format(BATCH_SIZE))\n",
        "train_set = np.concatenate((x_train, y_train), axis=1)\n",
        "valid_set = np.concatenate((x_valid, y_valid), axis=1)\n",
        "test_set = np.concatenate((x_test, y_test), axis=1)\n",
        "train_loader = DataLoader(train_set, batch_size = BATCH_SIZE, num_workers = available_workers)\n",
        "valid_loader = DataLoader(valid_set, batch_size = BATCH_SIZE, num_workers = available_workers)\n",
        "test_loader = DataLoader(test_set, batch_size = 1, num_workers = available_workers)\n",
        "\n",
        "print(train_set.dtype)\n",
        "print(x_train.dtype)\n",
        "print(y_train.dtype)\n"
      ],
      "metadata": {
        "id": "DU7JPUrt6MZa",
        "colab": {
          "base_uri": "https://localhost:8080/"
        },
        "outputId": "ce78e11c-bbe2-4a80-d0e6-f83ea00bc292"
      },
      "execution_count": null,
      "outputs": [
        {
          "output_type": "stream",
          "name": "stdout",
          "text": [
            "--- Creating training and dev dataloaders with 64 batch size ---\n",
            "int64\n",
            "int64\n",
            "int64\n"
          ]
        }
      ]
    },
    {
      "cell_type": "code",
      "source": [
        "def get_accuracy_from_log_probs(log_probs, labels):\n",
        "    probs = torch.exp(log_probs)\n",
        "    predicted_label = torch.argmax(probs, dim=1)\n",
        "    acc = (predicted_label == labels).float().mean()\n",
        "    return acc\n",
        "\n",
        "# helper function to evaluate model on dev/test data\n",
        "def evaluate(model, criterion, dataloader):\n",
        "    model.eval()\n",
        "    losses = []\n",
        "    pred = []\n",
        "    mean_acc, mean_loss = 0, 0\n",
        "    count = 0\n",
        "\n",
        "    with torch.no_grad():\n",
        "        dev_st = time.time()\n",
        "        for it, data_tensor in enumerate(dataloader):\n",
        "            context_tensor = data_tensor[:,0:context_size]\n",
        "            target_tensor = data_tensor[:,context_size]\n",
        "            context_tensor, target_tensor = context_tensor.to(device), target_tensor.to(device)\n",
        "            log_probs = model(context_tensor)\n",
        "\n",
        "            probs = torch.exp(log_probs)\n",
        "            predicted_label = torch.argmax(probs, dim=1)\n",
        "            pred.append(predicted_label)\n",
        "\n",
        "            mean_loss += criterion(log_probs, target_tensor).item()\n",
        "            losses.append(criterion(log_probs, target_tensor).item())\n",
        "\n",
        "            mean_acc += get_accuracy_from_log_probs(log_probs, target_tensor)\n",
        "            count += 1\n",
        "\n",
        "    return mean_acc / count, mean_loss / count, losses, pred"
      ],
      "metadata": {
        "id": "KETvEp2s6810"
      },
      "execution_count": null,
      "outputs": []
    },
    {
      "cell_type": "code",
      "source": [
        "# Using negative log-likelihood loss\n",
        "loss_function = nn.NLLLoss()\n",
        "\n",
        "# create model\n",
        "model = BruteForceFF(len(vocab), EMBEDDING_DIM, context_size, h1, h2).to(device)\n",
        "\n",
        "print(model.embeddings)\n",
        "\n",
        "# using ADAM optimizer\n",
        "optimizer = optim.Adam(model.parameters(), lr = 1e-3)\n",
        "\n",
        "#print(7962/124)\n",
        "#for it, data_tensor in enumerate(valid_loader):\n",
        " # print(it)\n",
        " # print(data_tensor[:,0:200])\n",
        " # print(data_tensor[:,200])"
      ],
      "metadata": {
        "id": "AuwLablS7oTC",
        "colab": {
          "base_uri": "https://localhost:8080/"
        },
        "outputId": "91a090c5-93f3-46cb-b57b-6aac491f9497"
      },
      "execution_count": null,
      "outputs": [
        {
          "output_type": "stream",
          "name": "stdout",
          "text": [
            "Embedding(28701, 100)\n"
          ]
        }
      ]
    },
    {
      "cell_type": "code",
      "source": [
        "best_acc = 0\n",
        "best_model_path = None\n",
        "train_losses = []\n",
        "\n",
        "for epoch in range(2):\n",
        "  st = time.time()\n",
        "  print(\"\\n--- Training model Epoch: {} ---\".format(epoch+1))\n",
        "  for it, data_tensor in enumerate(train_loader):\n",
        "    context_tensor = data_tensor[:,0:context_size]\n",
        "    target_tensor = data_tensor[:,context_size]\n",
        "    # context_tensor, target_tensor = context_tensor.cuda(gpu), target_tensor.cuda(gpu)\n",
        "    context_tensor, target_tensor = context_tensor.to(device), target_tensor.to(device)\n",
        "    # print(target_tensor)\n",
        "    # print(context_tensor)\n",
        "    # print(context_tensor.shape)\n",
        "    # print(target_tensor.shape)\n",
        "\n",
        "    #zero out the gradients from the old instance\n",
        "    model.zero_grad()\n",
        "\n",
        "    #get log probabilities over the next words\n",
        "    log_probs = model(context_tensor)\n",
        "    # print(log_probs.shape)\n",
        "    # print(log_probs)\n",
        "    #calculate current accuracy\n",
        "    acc = get_accuracy_from_log_probs(log_probs,target_tensor)\n",
        "\n",
        "    #compute loss function\n",
        "    loss = loss_function(log_probs, target_tensor)\n",
        "    train_losses.append(loss.item())\n",
        "\n",
        "    #backward pass and update gradient\n",
        "    loss.backward()\n",
        "    optimizer.step()\n",
        "\n",
        "    # print(context_tensor)\n",
        "\n",
        "    if it % 500 == 0: \n",
        "            print(\"Training Iteration {} of epoch {} complete. Loss: {}; Acc:{}; Time taken (s): {}\".format(it, epoch, loss.item(), acc, (time.time()-st)))\n",
        "            st = time.time()\n",
        "\n",
        "print(\"\\n--- Evaluating model on dev data ---\")\n",
        "dev_acc, dev_loss, valid_losses, valid_pred = evaluate(model, loss_function, valid_loader)\n",
        "print(\"Epoch {} complete! Development Accuracy: {}; Development Loss: {}\".format(epoch, dev_acc, dev_loss))\n",
        "if dev_acc > best_acc:\n",
        "  print(\"Best development accuracy improved from {} to {}, saving model...\".format(best_acc, dev_acc))\n",
        "  # best_acc = dev_acc\n",
        "  # set best model path\n",
        "  # best_model_path = 'best_model_{}.dat'.format(epoch)\n",
        "  # saving best model\n",
        "  # torch.save(model.state_dict(), best_model_path)"
      ],
      "metadata": {
        "colab": {
          "base_uri": "https://localhost:8080/"
        },
        "id": "7GoqN5Uq8Yi3",
        "outputId": "f821e34d-f9c5-459b-e4ed-a717c7b4ad91"
      },
      "execution_count": null,
      "outputs": [
        {
          "output_type": "stream",
          "name": "stdout",
          "text": [
            "\n",
            "--- Training model Epoch: 1 ---\n",
            "Training Iteration 0 of epoch 0 complete. Loss: 0.6958286166191101; Acc:0.5; Time taken (s): 0.09007024765014648\n",
            "\n",
            "--- Training model Epoch: 2 ---\n",
            "Training Iteration 0 of epoch 1 complete. Loss: 0.6446706652641296; Acc:0.546875; Time taken (s): 0.09384512901306152\n",
            "\n",
            "--- Evaluating model on dev data ---\n",
            "Epoch 1 complete! Development Accuracy: 0.7259615659713745; Development Loss: 0.4967178497463465\n",
            "Best development accuracy improved from 0 to 0.7259615659713745, saving model...\n"
          ]
        }
      ]
    },
    {
      "cell_type": "code",
      "source": [
        "# plot training losses\n",
        "# print(train_losses)\n",
        "import matplotlib.pyplot as plt\n",
        "\n",
        "x_axis = [i+1 for i in range(250)]\n",
        "y_axis = train_losses\n",
        "\n",
        "plt.plot(x_axis, y_axis)\n",
        "plt.title('traning loss')\n",
        "plt.xlabel('batch')\n",
        "plt.ylabel('loss')\n",
        "plt.show()"
      ],
      "metadata": {
        "id": "JIrGjYpiAZLz",
        "colab": {
          "base_uri": "https://localhost:8080/",
          "height": 295
        },
        "outputId": "c58b7652-f26f-40c0-e680-87c9cc97508a"
      },
      "execution_count": null,
      "outputs": [
        {
          "output_type": "display_data",
          "data": {
            "text/plain": [
              "<Figure size 432x288 with 1 Axes>"
            ],
            "image/png": "[encoded data removed]"
          },
          "metadata": {
            "needs_background": "light"
          }
        }
      ]
    },
    {
      "cell_type": "code",
      "source": [
        "# plot validation losses\n",
        "print(valid_losses)\n",
        "import matplotlib.pyplot as plt\n",
        "\n",
        "x_axis = [i+1 for i in range(16)]\n",
        "y_axis = valid_losses\n",
        "\n",
        "plt.plot(x_axis, y_axis)\n",
        "plt.title('traning loss')\n",
        "plt.xlabel('batch')\n",
        "plt.ylabel('loss')\n",
        "plt.show()"
      ],
      "metadata": {
        "colab": {
          "base_uri": "https://localhost:8080/",
          "height": 333
        },
        "id": "1FOHXS9wOC8Q",
        "outputId": "4025cc17-5775-4f36-c256-377361629345"
      },
      "execution_count": null,
      "outputs": [
        {
          "output_type": "stream",
          "name": "stdout",
          "text": [
            "[0.409127414226532, 0.4724872410297394, 0.5416237115859985, 0.5012471675872803, 0.4851801097393036, 0.38161206245422363, 0.45775270462036133, 0.44291236996650696, 0.44267702102661133, 0.5327309370040894, 0.6081580519676208, 0.4698628783226013, 0.5025217533111572, 0.5606552958488464, 0.5723315477371216, 0.5666053295135498]\n"
          ]
        },
        {
          "output_type": "display_data",
          "data": {
            "text/plain": [
              "<Figure size 432x288 with 1 Axes>"
            ],
            "image/png": "[encoded data removed]"
          },
          "metadata": {
            "needs_background": "light"
          }
        }
      ]
    },
    {
      "cell_type": "code",
      "source": [
        "# evaluating the model with the testing dataset\n",
        "!pip install torchmetrics\n",
        "import torchmetrics\n",
        "from torchmetrics.classification import BinaryConfusionMatrix\n",
        "\n",
        "test_acc, test_loss, test_losses, preds = evaluate(model, loss_function, test_loader)\n",
        "target = torch.as_tensor(y_test)\n",
        "\n",
        "preds = torch.as_tensor(preds)\n",
        "target = torch.squeeze(target)\n",
        "\n",
        "bcm = BinaryConfusionMatrix()\n",
        "\n",
        "print(test_acc)\n",
        "print(bcm(preds, target))\n",
        "\n",
        "\n"
      ],
      "metadata": {
        "colab": {
          "base_uri": "https://localhost:8080/"
        },
        "id": "JCRYvMX-PwOO",
        "outputId": "a037f7d5-fdef-4002-eae4-53d50ee7a784"
      },
      "execution_count": null,
      "outputs": [
        {
          "output_type": "stream",
          "name": "stdout",
          "text": [
            "Looking in indexes: https://pypi.org/simple, https://us-python.pkg.dev/colab-wheels/public/simple/\n",
            "Requirement already satisfied: torchmetrics in /usr/local/lib/python3.8/dist-packages (0.11.1)\n",
            "Requirement already satisfied: torch>=1.8.1 in /usr/local/lib/python3.8/dist-packages (from torchmetrics) (1.13.1+cu116)\n",
            "Requirement already satisfied: typing-extensions in /usr/local/lib/python3.8/dist-packages (from torchmetrics) (4.5.0)\n",
            "Requirement already satisfied: numpy>=1.17.2 in /usr/local/lib/python3.8/dist-packages (from torchmetrics) (1.22.4)\n",
            "Requirement already satisfied: packaging in /usr/local/lib/python3.8/dist-packages (from torchmetrics) (23.0)\n",
            "tensor(0.6968, device='cuda:0')\n",
            "tensor([[340, 207],\n",
            "        [112, 393]])\n"
          ]
        }
      ]
    },
    {
      "cell_type": "code",
      "source": [],
      "metadata": {
        "id": "KQDL9-q6YQiv"
      },
      "execution_count": null,
      "outputs": []
    }
  ]
}